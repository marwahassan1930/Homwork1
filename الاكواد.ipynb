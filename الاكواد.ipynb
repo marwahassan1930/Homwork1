{
 "cells": [
  {
   "cell_type": "markdown",
   "id": "1920330c",
   "metadata": {},
   "source": [
    "# 1930 مروى عيد حسان"
   ]
  },
  {
   "cell_type": "markdown",
   "id": "cb6eb0ed",
   "metadata": {},
   "source": [
    "Question 1: Python Basics"
   ]
  },
  {
   "cell_type": "code",
   "execution_count": 1,
   "id": "0786d8c8",
   "metadata": {},
   "outputs": [
    {
     "name": "stdout",
     "output_type": "stream",
     "text": [
      "{'HTTP': 80, 'HTTPS': 443, 'FTP': 21, 'DNS': 53}\n"
     ]
    }
   ],
   "source": [
    "#  A. Converting Two Lists into a Dictionary\n",
    "# Lists\n",
    "L1 = ['HTTP', 'HTTPS', 'FTP', 'DNS']\n",
    "L2 = [80, 443, 21, 53]\n",
    "\n",
    "# Converting to dictionary\n",
    "d = dict(zip(L1, L2))\n",
    "\n",
    "# Output\n",
    "print(d)"
   ]
  },
  {
   "cell_type": "code",
   "execution_count": 2,
   "id": "421f4ff3",
   "metadata": {},
   "outputs": [
    {
     "name": "stdout",
     "output_type": "stream",
     "text": [
      "Enter a number to calculate its factorial: 3\n",
      "The factorial of 3 is 6\n"
     ]
    }
   ],
   "source": [
    "#B. Calculating Factorial of a Given Number\n",
    "# Function to calculate factorial\n",
    "def factorial(n):\n",
    "    if n == 0:\n",
    "        return 1\n",
    "    else:\n",
    "        return n * factorial(n-1)\n",
    "\n",
    "# Taking user input\n",
    "number = int(input(\"Enter a number to calculate its factorial: \"))\n",
    "\n",
    "# Calculating factorial\n",
    "result = factorial(number)\n",
    "\n",
    "# Output\n",
    "print(f\"The factorial of {number} is {result}\")"
   ]
  },
  {
   "cell_type": "code",
   "execution_count": 3,
   "id": "f86a2919",
   "metadata": {},
   "outputs": [
    {
     "name": "stdout",
     "output_type": "stream",
     "text": [
      "Bio\n"
     ]
    }
   ],
   "source": [
    "#C. Identifying Items Starting with 'B'\n",
    "# List of items\n",
    "L = ['Network', 'Bio', 'Programming', 'Physics', 'Music']\n",
    "\n",
    "# Identifying items starting with 'B'\n",
    "for item in L:\n",
    "    if item.startswith('B'):\n",
    "        print(item)"
   ]
  },
  {
   "cell_type": "code",
   "execution_count": 4,
   "id": "7fd413ad",
   "metadata": {},
   "outputs": [
    {
     "name": "stdout",
     "output_type": "stream",
     "text": [
      "{0: 1, 1: 2, 2: 3, 3: 4, 4: 5, 5: 6, 6: 7, 7: 8, 8: 9, 9: 10, 10: 11}\n"
     ]
    }
   ],
   "source": [
    "#D. Generating Dictionary Using Comprehension\n",
    "# Dictionary comprehension\n",
    "d = {i: i + 1 for i in range(11)}\n",
    "\n",
    "# Output\n",
    "print(d)"
   ]
  },
  {
   "cell_type": "markdown",
   "id": "e2139e8b",
   "metadata": {},
   "source": [
    "Question 2: Convert from Binary to Decimal\n"
   ]
  },
  {
   "cell_type": "code",
   "execution_count": 5,
   "id": "ecb695b1",
   "metadata": {},
   "outputs": [
    {
     "name": "stdout",
     "output_type": "stream",
     "text": [
      "Enter a binary number: 10110\n",
      "The decimal equivalent of binary 10110 is 22\n"
     ]
    }
   ],
   "source": [
    "# Function to convert binary to decimal\n",
    "def binary_to_decimal(binary):\n",
    "    try:\n",
    "        decimal = int(binary, 2)\n",
    "        return decimal\n",
    "    except ValueError:\n",
    "        return \"Invalid binary number\"\n",
    "\n",
    "# Taking user input\n",
    "binary_number = input(\"Enter a binary number: \")\n",
    "\n",
    "# Converting and outputting\n",
    "decimal_number = binary_to_decimal(binary_number)\n",
    "print(f\"The decimal equivalent of binary {binary_number} is {decimal_number}\")"
   ]
  },
  {
   "cell_type": "markdown",
   "id": "ab23488f",
   "metadata": {},
   "source": [
    "Question 3: Working with Files” Quiz Program”"
   ]
  },
  {
   "cell_type": "code",
   "execution_count": 7,
   "id": "fe585f9d",
   "metadata": {},
   "outputs": [
    {
     "name": "stdout",
     "output_type": "stream",
     "text": [
      "Enter your name: marwa\n",
      "Starting the quiz...\n",
      "1+5?\n",
      "Your answer: 6\n",
      "5*5?\n",
      "Your answer: 25\n",
      "10-3?\n",
      "Your answer: 7\n",
      "8/2?\n",
      "Your answer: 4\n",
      "9+1?\n",
      "Your answer: 10\n",
      "7*3?\n",
      "Your answer: 21\n",
      "15-5?\n",
      "Your answer: 10\n",
      "12/3?\n",
      "Your answer: 4\n",
      "6+4?\n",
      "Your answer: 10\n",
      "3*6?\n",
      "Your answer: 18\n",
      "8-4?\n",
      "Your answer: 4\n",
      "16/4?\n",
      "Your answer: 0\n",
      "11+2?\n",
      "Your answer: 13\n",
      "9*2?\n",
      "Your answer: 18\n",
      "20-10?\n",
      "Your answer: 10\n",
      "24/6?\n",
      "Your answer: 4\n",
      "7+9?\n",
      "Your answer: 63\n",
      "4*5?\n",
      "Your answer: 20\n",
      "18-8?\n",
      "Your answer: 10\n",
      "30/5?\n",
      "Your answer: 6\n",
      "marwa, you scored 18 out of 20 (90.00%)\n"
     ]
    }
   ],
   "source": [
    "import os\n",
    "\n",
    "# Function to read questions and answers from a text file\n",
    "def read_quiz_file(filename):\n",
    "    with open(filename, 'r') as file:\n",
    "        lines = file.readlines()\n",
    "    \n",
    "    questions = []\n",
    "    answers = []\n",
    "    for line in lines:\n",
    "        question, answer = line.strip().split('=')\n",
    "        questions.append(question + '?')\n",
    "        answers.append(answer)\n",
    "    \n",
    "    return questions, answers\n",
    "\n",
    "# Function to conduct the quiz\n",
    "def conduct_quiz(questions, answers):\n",
    "    score = 0\n",
    "    for i in range(len(questions)):\n",
    "        print(questions[i])\n",
    "        user_answer = input(\"Your answer: \").strip()\n",
    "        if user_answer == answers[i]:\n",
    "            score += 1\n",
    "    return score\n",
    "\n",
    "# Function to save the user's result to a CSV file\n",
    "def save_result_to_csv(filename, username, score, total_questions):\n",
    "    if not os.path.exists(filename):\n",
    "        with open(filename, 'w') as file:\n",
    "            file.write(\"Username,Score,Total Questions,Percentage\\n\")\n",
    "    \n",
    "    percentage = (score / total_questions) * 100\n",
    "    with open(filename, 'a') as file:\n",
    "        file.write(f\"{username},{score},{total_questions},{percentage:.2f}\\n\")\n",
    "\n",
    "# Main program\n",
    "def main():\n",
    "    questions, answers = read_quiz_file('quiz.txt')\n",
    "    username = input(\"Enter your name: \")\n",
    "    print(\"Starting the quiz...\")\n",
    "    score = conduct_quiz(questions, answers)\n",
    "    total_questions = len(questions)\n",
    "    print(f\"{username}, you scored {score} out of {total_questions} ({(score/total_questions)*100:.2f}%)\")\n",
    "    \n",
    "    save_result_to_csv('results.csv', username, score, total_questions)\n",
    "\n",
    "if __name__ == \"__main__\":\n",
    "    main()"
   ]
  },
  {
   "cell_type": "markdown",
   "id": "a0e2adf8",
   "metadata": {},
   "source": [
    "Question 4: Object-Oriented Programming - Bank Class\n"
   ]
  },
  {
   "cell_type": "code",
   "execution_count": 6,
   "id": "01f285c4",
   "metadata": {},
   "outputs": [
    {
     "name": "stdout",
     "output_type": "stream",
     "text": [
      "Deposited $1000. Current balance: $1000.0\n",
      "Withdrew $500. Current balance: $500.0\n",
      "Current balance: $500.0\n",
      "Deposited $2000. Current balance: $2000.0\n",
      "Applied interest. New balance: $2500.0\n",
      "Account Balance: $2500.0, Interest Rate: 25.0%\n"
     ]
    }
   ],
   "source": [
    "class BankAccount:\n",
    "    def __init__(self, account_number, account_holder):\n",
    "        self.account_number = account_number\n",
    "        self.account_holder = account_holder\n",
    "        self.balance = 0.0\n",
    "\n",
    "    def deposit(self, amount):\n",
    "        self.balance += amount\n",
    "        print(f\"Deposited ${amount}. Current balance: ${self.balance}\")\n",
    "\n",
    "    def withdraw(self, amount):\n",
    "        if amount > self.balance:\n",
    "            print(\"Insufficient funds\")\n",
    "        else:\n",
    "            self.balance -= amount\n",
    "            print(f\"Withdrew ${amount}. Current balance: ${self.balance}\")\n",
    "\n",
    "    def get_balance(self):\n",
    "        return self.balance\n",
    "\n",
    "class SavingsAccount(BankAccount):\n",
    "    def __init__(self, account_number, account_holder, interest_rate):\n",
    "        super().__init__(account_number, account_holder)\n",
    "        self.interest_rate = interest_rate\n",
    "\n",
    "    def apply_interest(self):\n",
    "        self.balance += self.balance * self.interest_rate\n",
    "        print(f\"Applied interest. New balance: ${self.balance}\")\n",
    "\n",
    "    def __str__(self):\n",
    "        return f\"Account Balance: ${self.balance}, Interest Rate: {self.interest_rate * 100}%\"\n",
    "\n",
    "# Creating an instance of BankAccount\n",
    "account = BankAccount('1930', ' مروى عيد حسان')\n",
    "# Perform a deposit of $1000\n",
    "account.deposit(1000)\n",
    "\n",
    "# Perform a withdrawal of $500\n",
    "account.withdraw(500)\n",
    "\n",
    "# Print the current balance\n",
    "print(f\"Current balance: ${account.get_balance()}\")\n",
    "\n",
    "# Creating an instance of SavingsAccount\n",
    "savings_account = SavingsAccount('1930', \" مروى عيد حسان\",0.25)\n",
    "\n",
    "# Perform a deposit in SavingsAccount\n",
    "savings_account.deposit(2000)\n",
    "\n",
    "# Apply interest\n",
    "savings_account.apply_interest()\n",
    "\n",
    "# Print the current balance and interest rate\n",
    "print(savings_account)"
   ]
  },
  {
   "cell_type": "code",
   "execution_count": null,
   "id": "238292ae",
   "metadata": {},
   "outputs": [],
   "source": []
  }
 ],
 "metadata": {
  "kernelspec": {
   "display_name": "Python 3 (ipykernel)",
   "language": "python",
   "name": "python3"
  },
  "language_info": {
   "codemirror_mode": {
    "name": "ipython",
    "version": 3
   },
   "file_extension": ".py",
   "mimetype": "text/x-python",
   "name": "python",
   "nbconvert_exporter": "python",
   "pygments_lexer": "ipython3",
   "version": "3.11.2"
  }
 },
 "nbformat": 4,
 "nbformat_minor": 5
}
